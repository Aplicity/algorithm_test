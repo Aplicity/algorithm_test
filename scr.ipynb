{
 "cells": [
  {
   "cell_type": "markdown",
   "metadata": {},
   "source": [
    "## Q1\n",
    "### 题目描述\n",
    "Q哥在玩一个游戏，他刚打完这个游戏的一场战役并获得足够多的金币准备进行下一场战役，这场战役一共有$n$个怪兽，击杀第$i$个怪兽需要花费$c_i$的血量,同时获得$w_i$的金币，在战役的最开始Q个花费金币购买血量，只有在当场战役购买的血量才对该场战役有效。Q哥想知道他接下来的这场战役最多能获得多少金币。\n",
    "\n",
    "### 输入描述\n",
    "第一行数字$n$,$m$表示怪物个数和每个金币能够购买的血量。\n",
    "\n",
    "接下来$n$行，每行有两个数字，用空格分隔开，第$i+1$行为$c_i$和$w_i$，含义如题所示。\n",
    "\n",
    "$1\\leq n\\leq 1000 $\n",
    "\n",
    "$1\\leq w_i\\leq 100 $\n",
    "\n",
    "$1\\leq m\\leq 10^9 $\n",
    "\n",
    "$1\\leq c_i\\leq 10^6 $\n",
    "\n",
    "### 输出描述\n",
    "一行一个数字表示答案，即Q哥的最大收益。\n",
    "\n",
    "### 示例1\n",
    "* 输入\n",
    "\n",
    "3 2\n",
    "\n",
    "1 1\n",
    "\n",
    "1 10\n",
    "\n",
    "3 1\n",
    "\n",
    "* 输出\n",
    "\n",
    "10\n",
    "\n",
    "* 说明\n",
    "\n",
    "示例一表示有3个怪物，Q哥可以选择开局花费一个金币购买2点血量，击杀第一个和第二个怪物共获得11个金币，总收益为10.\n",
    "\n",
    "### 示例2\n",
    "* 输入\n",
    "\n",
    "1 2\n",
    "\n",
    "3 1\n",
    "\n",
    "* 输出\n",
    "\n",
    "0\n",
    "\n",
    "* 说明\n",
    "\n",
    "请注意当怪物的收益比花费要低时，Q哥可以选择不参加这场战役，这样的收益为0."
   ]
  },
  {
   "cell_type": "code",
   "execution_count": 109,
   "metadata": {},
   "outputs": [
    {
     "name": "stdout",
     "output_type": "stream",
     "text": [
      "3 2\n",
      "1 1\n",
      "1 10\n",
      "3 1\n"
     ]
    }
   ],
   "source": [
    "test_file = '3 2\\n1 1\\n1 10\\n3 1'\n",
    "print(test_file)\n"
   ]
  },
  {
   "cell_type": "code",
   "execution_count": 110,
   "metadata": {},
   "outputs": [
    {
     "name": "stdout",
     "output_type": "stream",
     "text": [
      "10\n"
     ]
    }
   ],
   "source": [
    "L = []\n",
    "for i,line in enumerate(test_file.split('\\n')):\n",
    "    lineArr = line.split()\n",
    "    if i == 0:\n",
    "        n,m = int(lineArr[0]),int(lineArr[1])\n",
    "    if i > 0 :\n",
    "        L.append([int(lineArr[0]),int(lineArr[1])])\n",
    "\n",
    "Returns = [0] # 不打任何怪兽，收益为0\n",
    "for i in range(n): # 只PK前i个怪象，计算收益\n",
    "    if i > 0 :\n",
    "        total_c = 0 # 初始血量消耗\n",
    "        total_w = 0 # 初始收益\n",
    "        for j, item in enumerate(L[:i]): # 只PK前i个怪象，计算收益\n",
    "            ci , wi = item\n",
    "            total_c += ci\n",
    "            total_w += wi\n",
    "        \n",
    "        x,y = divmod(total_c, m) # 总血量消耗 / 每个金牌可以购买的血量，返回 商和余数\n",
    "        if y > 0:# 如果余数>0, 说明要花多一个金币购买血量\n",
    "            x += 1\n",
    "        Returns.append(total_w - x) # 记录只PK前i个怪象的收益\n",
    "        \n",
    "print(max(Returns))"
   ]
  },
  {
   "cell_type": "markdown",
   "metadata": {},
   "source": [
    "## Q2\n",
    "\n",
    "### 题目描述\n",
    "求抛物线$y^2=2Ax$与直线$y=Bx+C$所围城的封闭图形面积。若图形不存在，则输出0.\n",
    "\n",
    "### 输入描述\n",
    "第一行输入一个正整数$T$，表示测试数据的组数。（Note：可能有多个测试，需要输出多个结果。）\n",
    "\n",
    "接下来每行输入三个整数$A$，\n",
    "\n",
    "$1 \\leq T \\leq 1000$\n",
    "\n",
    "$1 \\leq A,B \\leq 100$\n",
    "\n",
    "$-100 \\leq C \\leq 100$\n",
    "\n",
    "### 输出描述\n",
    "每组测试数据输出一个答案。相对误差在$10^{-4}$范围内都视为正确输出。\n",
    "\n",
    "### 示例1\n",
    "* 输入：\n",
    "\n",
    "1\n",
    "\n",
    "1 1 -6\n",
    "\n",
    "* 输出：\n",
    "\n",
    "31.2481110540"
   ]
  },
  {
   "cell_type": "code",
   "execution_count": 111,
   "metadata": {},
   "outputs": [
    {
     "name": "stdout",
     "output_type": "stream",
     "text": [
      "2\n",
      "1 1 -6\n",
      "1 1 6\n"
     ]
    }
   ],
   "source": [
    "test_file = '2\\n1 1 -6\\n1 1 6'\n",
    "print(test_file)\n"
   ]
  },
  {
   "cell_type": "code",
   "execution_count": 112,
   "metadata": {},
   "outputs": [
    {
     "name": "stdout",
     "output_type": "stream",
     "text": [
      "31.248111037810933\n",
      "0\n"
     ]
    }
   ],
   "source": [
    "def xps(a,b,n):  \n",
    "    '''复合辛普森求积分公式'''\n",
    "    h=(b-a)/n\n",
    "    x=a\n",
    "    s=fun(x)-fun(b)\n",
    "    for k in range(1,n+1):\n",
    "        x=x+h/2\n",
    "        s=s+4*fun(x)\n",
    "        x=x+h/2\n",
    "        s=s+2*fun(x)\n",
    "    result=(h/6)*s\n",
    "    return result\n",
    "\n",
    "for i, line in enumerate(test_file.split('\\n')):\n",
    "    a = line.split()\n",
    "    if i > 0  :\n",
    "        A,B,C = int(a[0]), int(a[1]),int(a[2])\n",
    "        a = B**2\n",
    "        b = 2*B*C-2*A\n",
    "        c = C**2\n",
    "        if b**2 - 4*a*c <= 0 : # 判断是否有两个交点\n",
    "            A = 0\n",
    "            print(A)\n",
    "        else:\n",
    "            theta =  b**2 - 4*a*c\n",
    "            x1 = (-b - theta**0.5) / (2*a) # 直线和曲线的交点x1\n",
    "            x2 = (-b + theta**0.5) / (2*a) # 直线和曲线的交点x2\n",
    "            def fun(x):\n",
    "                return 2*(2*A*x)**0.5\n",
    "            A1 = xps(0,x1,100000)\n",
    "            def fun(x):\n",
    "                f = (2*A*x) **0.5 - (B*x+C)\n",
    "                return abs(f)\n",
    "            A2 = xps(x1,x2,100000)\n",
    "            print(A1+A2)"
   ]
  },
  {
   "cell_type": "markdown",
   "metadata": {},
   "source": [
    "## Q3\n",
    "### 题目描述\n",
    "现在在一个监狱里，有$n$个房间连在一起，编号为1到$n$，每一个房间内都有一个人。现在要每个房间的人选择1个1到$m$之间的数字，若相邻的房间内人选择的数字是一样的，则就会发生冲突。\n",
    "\n",
    "问：有多少种情况下是可能发生冲突的？\n",
    "\n",
    "### 输入描述\n",
    "第一行用空格分割的2个整数$m$和$n$，代表数字的范围和房间数量。\n",
    "\n",
    "$1 \\leq n \\leq 10^{12}$\n",
    "\n",
    "$1 \\leq m \\leq 10^{8}$\n",
    "\n",
    "### 输出描述\n",
    "对于每一组数据，输出一个答案表示可能冲突的方案数量，答案对100003取余。\n",
    "\n",
    "### 示例1\n",
    "* 输入\n",
    "\n",
    "2 3\n",
    "\n",
    "* 输出\n",
    "\n",
    "6\n",
    "\n",
    "* 说明\n",
    "\n",
    "可能的方案为(1,1,1)、(1,1,2)、(1,2,2)、(2,1,1)、(2,2,1)、(2,2,2)"
   ]
  },
  {
   "cell_type": "code",
   "execution_count": 113,
   "metadata": {},
   "outputs": [
    {
     "name": "stdout",
     "output_type": "stream",
     "text": [
      "6\n"
     ]
    }
   ],
   "source": [
    "'''\n",
    "n个犯人，每个犯人有m种可以选择的数字。也就是一共有m^n种方案。\n",
    "不发生冲突方案数为 m*(m-1)^(n-1)，因为第一个房间有m种选择，后面的每个都要和前面的不同，后面的每个都有 m-1个选择\n",
    "'''\n",
    "test_file = '2 3'\n",
    "for i, line in enumerate(test_file.split('\\n')):\n",
    "    a = line.split()\n",
    "    m,n = int(a[0]) , int(a[1])\n",
    "    total = m**n - m*(m-1)**(n-1) \n",
    "    print(divmod(total,100003)[1])"
   ]
  },
  {
   "cell_type": "markdown",
   "metadata": {},
   "source": [
    "## Q4\n",
    "\n",
    "### 题目描述\n",
    "有$n$个物品，每个物品有$k$个属性，第$i$件物品的第$j$个属性用一个正整数表示，记为$a_{ij}$，两个不同的物品$i,j$被称为是完美对的当且仅当:\n",
    "\n",
    "$a_{i,1}+a_{j,1}=a_{i,2}+a_{j,2}=...=a_{i,k}+a_{j,k}$\n",
    "\n",
    "求完美对的个数。\n",
    "\n",
    "### 输入描述\n",
    "第一行两个数字$n,k$。\n",
    "\n",
    "接下来$n$行，第$i$行$k$个数字表示$a_{i,1},a_{i,2},...,a_{i,k}$\n",
    "\n",
    "$1 \\leq n \\leq 10^5$\n",
    "\n",
    "$2 \\leq k \\leq 10$\n",
    "\n",
    "$1 \\leq a_i \\leq 100$\n",
    "\n",
    "### 输出描述\n",
    "一行一个数字表示答案\n",
    "\n",
    "### 示例1\n",
    "* 输入\n",
    "\n",
    "5 3\n",
    "\n",
    "2 11 21 \n",
    "\n",
    "19 10 1\n",
    "\n",
    "20 11 1\n",
    "\n",
    "6 15 24\n",
    "\n",
    "18 27 36\n",
    "\n",
    "* 输出 \n",
    "\n",
    "3"
   ]
  },
  {
   "cell_type": "code",
   "execution_count": 114,
   "metadata": {},
   "outputs": [
    {
     "name": "stdout",
     "output_type": "stream",
     "text": [
      "5 3\n",
      "2 11 21\n",
      "19 10 1\n",
      "20 11 1\n",
      "6 15 24\n",
      "18 27 36\n"
     ]
    }
   ],
   "source": [
    "test_file = '5 3\\n2 11 21\\n19 10 1\\n20 11 1\\n6 15 24\\n18 27 36'\n",
    "print(test_file)"
   ]
  },
  {
   "cell_type": "code",
   "execution_count": 115,
   "metadata": {},
   "outputs": [
    {
     "name": "stdout",
     "output_type": "stream",
     "text": [
      "3\n"
     ]
    }
   ],
   "source": [
    "L = []\n",
    "for i, line in enumerate(test_file.split('\\n')):\n",
    "    a = line.split()\n",
    "    if i == 0:\n",
    "        n, k = int(a[0]) , int(a[1])\n",
    "    if i > 0:\n",
    "        A = [int(x) for x in a ]\n",
    "        L.append(A)\n",
    "total = 0\n",
    "for i, item1 in enumerate(L):\n",
    "    for j,item2 in enumerate(L):\n",
    "        if i > j :\n",
    "            n_equation = 0 # 满足等式的个数\n",
    "            equation_value = item1[0] +  item2[0] # 先提取第一个属性，计算完美对在第一个属性下的和，作为每个等式的值\n",
    "            for h in range(k):\n",
    "                if item1[h] +  item2[h] == equation_value:\n",
    "                    n_equation += 1\n",
    "            if n_equation == k :\n",
    "                total += 1\n",
    "print(total)"
   ]
  },
  {
   "cell_type": "markdown",
   "metadata": {},
   "source": [
    "## Q5\n",
    "\n",
    "### 问题描述\n",
    "现在有$10^7$个用户，编号为$1-10^7$，现在已知有$m$对关系，每一对关系给你两个数$x,y$，代表编号为$x$的用户和编号为$y$的用户是在一个圈子中。例如：A和B在一个圈子中，B和C在一个圈子中，那么A,B,C就在一个圈子中。现在想知道最多的一个圈子内有多少个用户。\n",
    "\n",
    "### 输入描述\n",
    "第一行输入一个正整数$T$，表示测试数据的组数。（Note：可能有多个测试，需要输出多个结果。）\n",
    "\n",
    "对于每一组测试数据：第一行输入1个整数$n$，表示有$n$对关系。\n",
    "\n",
    "接下来$n$行，没银行输入两个数$x,y$，代表编号为$x$的用户和编号为$y$的用户是在一个圈子中。\n",
    "\n",
    "### 输出描述\n",
    "对于每组数据，输出一个答案代表一个圈子内的最多人数。\n",
    "\n",
    "### 示例1\n",
    "* 输入\n",
    "\n",
    "2\n",
    "\n",
    "4\n",
    "\n",
    "1 2\n",
    "\n",
    "3 4\n",
    "\n",
    "5 6\n",
    "\n",
    "1 6\n",
    "\n",
    "4\n",
    "\n",
    "1 2\n",
    "\n",
    "3 4 \n",
    "\n",
    "5 6\n",
    "\n",
    "7 8\n",
    "\n",
    "* 输出\n",
    "\n",
    "4\n",
    "\n",
    "2\n"
   ]
  },
  {
   "cell_type": "code",
   "execution_count": 116,
   "metadata": {},
   "outputs": [
    {
     "name": "stdout",
     "output_type": "stream",
     "text": [
      "2\n",
      "4\n",
      "1 2\n",
      "3 4\n",
      "5 6\n",
      "1 6\n",
      "4\n",
      "1 2\n",
      "3 4\n",
      "5 6\n",
      "7 8\n"
     ]
    }
   ],
   "source": [
    "test_file = '2\\n4\\n1 2\\n3 4\\n5 6\\n1 6\\n4\\n1 2\\n3 4\\n5 6\\n7 8'\n",
    "print(test_file)"
   ]
  },
  {
   "cell_type": "code",
   "execution_count": 117,
   "metadata": {},
   "outputs": [
    {
     "name": "stdout",
     "output_type": "stream",
     "text": [
      "2\n",
      "2\n"
     ]
    }
   ],
   "source": [
    "for i, line in enumerate(test_file.split('\\n')):\n",
    "    lineArr = line.split()\n",
    "    if i > 0 and len(lineArr) == 1:\n",
    "        n_item = int(lineArr[0])\n",
    "        k = 0\n",
    "        items = []\n",
    "    if i > 0 and len(lineArr) == 2 and k <= n_item:\n",
    "        x,y = int(lineArr[0]), int(lineArr[1])\n",
    "        k += 1\n",
    "        items.append([x,y])\n",
    "        if len(items) == n_item:\n",
    "            for item in items:\n",
    "                x,y = item\n",
    "                s.add(x)\n",
    "                s.add(y)\n",
    "            nums = []\n",
    "            for user in s:\n",
    "                s = set([user])\n",
    "                for item in group:\n",
    "                    x,y = item\n",
    "                    if x in s and y not in s:\n",
    "                        s.add(y)\n",
    "                    if y in s and x not in s:\n",
    "                        s.add(x)\n",
    "                for item in group[::-1]:\n",
    "                    x,y = item\n",
    "                    if x in s and y not in s:\n",
    "                        s.add(y)\n",
    "                    if y in s and x not in s:\n",
    "                        s.add(x)\n",
    "                nums.append(len(s))\n",
    "            print(max(nums))"
   ]
  },
  {
   "cell_type": "code",
   "execution_count": null,
   "metadata": {},
   "outputs": [],
   "source": []
  },
  {
   "cell_type": "code",
   "execution_count": null,
   "metadata": {},
   "outputs": [],
   "source": []
  },
  {
   "cell_type": "code",
   "execution_count": null,
   "metadata": {},
   "outputs": [],
   "source": []
  },
  {
   "cell_type": "code",
   "execution_count": null,
   "metadata": {},
   "outputs": [],
   "source": []
  },
  {
   "cell_type": "code",
   "execution_count": null,
   "metadata": {},
   "outputs": [],
   "source": []
  },
  {
   "cell_type": "code",
   "execution_count": null,
   "metadata": {},
   "outputs": [],
   "source": []
  },
  {
   "cell_type": "code",
   "execution_count": null,
   "metadata": {},
   "outputs": [],
   "source": []
  },
  {
   "cell_type": "code",
   "execution_count": null,
   "metadata": {},
   "outputs": [],
   "source": []
  }
 ],
 "metadata": {
  "kernelspec": {
   "display_name": "Python 3",
   "language": "python",
   "name": "python3"
  },
  "language_info": {
   "codemirror_mode": {
    "name": "ipython",
    "version": 3
   },
   "file_extension": ".py",
   "mimetype": "text/x-python",
   "name": "python",
   "nbconvert_exporter": "python",
   "pygments_lexer": "ipython3",
   "version": "3.6.4"
  },
  "toc": {
   "base_numbering": 1,
   "nav_menu": {},
   "number_sections": true,
   "sideBar": true,
   "skip_h1_title": false,
   "title_cell": "Table of Contents",
   "title_sidebar": "Contents",
   "toc_cell": false,
   "toc_position": {},
   "toc_section_display": true,
   "toc_window_display": true
  },
  "varInspector": {
   "cols": {
    "lenName": 16,
    "lenType": 16,
    "lenVar": 40
   },
   "kernels_config": {
    "python": {
     "delete_cmd_postfix": "",
     "delete_cmd_prefix": "del ",
     "library": "var_list.py",
     "varRefreshCmd": "print(var_dic_list())"
    },
    "r": {
     "delete_cmd_postfix": ") ",
     "delete_cmd_prefix": "rm(",
     "library": "var_list.r",
     "varRefreshCmd": "cat(var_dic_list()) "
    }
   },
   "types_to_exclude": [
    "module",
    "function",
    "builtin_function_or_method",
    "instance",
    "_Feature"
   ],
   "window_display": false
  }
 },
 "nbformat": 4,
 "nbformat_minor": 2
}
